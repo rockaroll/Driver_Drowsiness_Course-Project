{
 "cells": [
  {
   "cell_type": "code",
   "execution_count": 587,
   "id": "74a57ad0",
   "metadata": {},
   "outputs": [],
   "source": [
    "import pandas as pd\n",
    "import numpy as np"
   ]
  },
  {
   "cell_type": "code",
   "execution_count": 604,
   "id": "7a9f84ff",
   "metadata": {},
   "outputs": [],
   "source": [
    "df=pd.read_excel('D:/2ndyear/Semister-2/DataScience/Cpxl.xlsx')"
   ]
  },
  {
   "cell_type": "code",
   "execution_count": 605,
   "id": "300e5293",
   "metadata": {},
   "outputs": [
    {
     "data": {
      "text/html": [
       "<div>\n",
       "<style scoped>\n",
       "    .dataframe tbody tr th:only-of-type {\n",
       "        vertical-align: middle;\n",
       "    }\n",
       "\n",
       "    .dataframe tbody tr th {\n",
       "        vertical-align: top;\n",
       "    }\n",
       "\n",
       "    .dataframe thead th {\n",
       "        text-align: right;\n",
       "    }\n",
       "</style>\n",
       "<table border=\"1\" class=\"dataframe\">\n",
       "  <thead>\n",
       "    <tr style=\"text-align: right;\">\n",
       "      <th></th>\n",
       "      <th>Sl.No</th>\n",
       "      <th>Name</th>\n",
       "      <th>Contact</th>\n",
       "      <th>Email</th>\n",
       "      <th>Alcohol Level</th>\n",
       "      <th>Amount Of sleep</th>\n",
       "      <th>Capability</th>\n",
       "      <th>Descion</th>\n",
       "    </tr>\n",
       "  </thead>\n",
       "  <tbody>\n",
       "    <tr>\n",
       "      <th>0</th>\n",
       "      <td>1</td>\n",
       "      <td>Pavan</td>\n",
       "      <td>433441114.0</td>\n",
       "      <td>pavan20@vit.edu</td>\n",
       "      <td>12.0</td>\n",
       "      <td>6.0</td>\n",
       "      <td>0.800000</td>\n",
       "      <td>1.0</td>\n",
       "    </tr>\n",
       "    <tr>\n",
       "      <th>1</th>\n",
       "      <td>2</td>\n",
       "      <td>Anita</td>\n",
       "      <td>418783269.0</td>\n",
       "      <td>Anita20@vit.edu</td>\n",
       "      <td>10.5</td>\n",
       "      <td>7.0</td>\n",
       "      <td>1.020000</td>\n",
       "      <td>1.0</td>\n",
       "    </tr>\n",
       "    <tr>\n",
       "      <th>2</th>\n",
       "      <td>3</td>\n",
       "      <td>Yashodhan</td>\n",
       "      <td>420783270.0</td>\n",
       "      <td>Yashodhan20@vit.edu</td>\n",
       "      <td>5.4</td>\n",
       "      <td>5.5</td>\n",
       "      <td>0.936667</td>\n",
       "      <td>1.0</td>\n",
       "    </tr>\n",
       "    <tr>\n",
       "      <th>3</th>\n",
       "      <td>4</td>\n",
       "      <td>Rangappa</td>\n",
       "      <td>445783271.0</td>\n",
       "      <td>Rangappa20@vit.edu</td>\n",
       "      <td>15.0</td>\n",
       "      <td>4.0</td>\n",
       "      <td>0.334000</td>\n",
       "      <td>0.0</td>\n",
       "    </tr>\n",
       "    <tr>\n",
       "      <th>4</th>\n",
       "      <td>5</td>\n",
       "      <td>Kamala</td>\n",
       "      <td>490783272.0</td>\n",
       "      <td>Kamala20@vit.edu</td>\n",
       "      <td>7.5</td>\n",
       "      <td>6.5</td>\n",
       "      <td>1.033333</td>\n",
       "      <td>1.0</td>\n",
       "    </tr>\n",
       "    <tr>\n",
       "      <th>...</th>\n",
       "      <td>...</td>\n",
       "      <td>...</td>\n",
       "      <td>...</td>\n",
       "      <td>...</td>\n",
       "      <td>...</td>\n",
       "      <td>...</td>\n",
       "      <td>...</td>\n",
       "      <td>...</td>\n",
       "    </tr>\n",
       "    <tr>\n",
       "      <th>245</th>\n",
       "      <td>246</td>\n",
       "      <td>NaN</td>\n",
       "      <td>NaN</td>\n",
       "      <td>NaN</td>\n",
       "      <td>NaN</td>\n",
       "      <td>NaN</td>\n",
       "      <td>NaN</td>\n",
       "      <td>NaN</td>\n",
       "    </tr>\n",
       "    <tr>\n",
       "      <th>246</th>\n",
       "      <td>247</td>\n",
       "      <td>NaN</td>\n",
       "      <td>NaN</td>\n",
       "      <td>NaN</td>\n",
       "      <td>NaN</td>\n",
       "      <td>NaN</td>\n",
       "      <td>NaN</td>\n",
       "      <td>NaN</td>\n",
       "    </tr>\n",
       "    <tr>\n",
       "      <th>247</th>\n",
       "      <td>248</td>\n",
       "      <td>NaN</td>\n",
       "      <td>NaN</td>\n",
       "      <td>NaN</td>\n",
       "      <td>NaN</td>\n",
       "      <td>NaN</td>\n",
       "      <td>NaN</td>\n",
       "      <td>NaN</td>\n",
       "    </tr>\n",
       "    <tr>\n",
       "      <th>248</th>\n",
       "      <td>249</td>\n",
       "      <td>NaN</td>\n",
       "      <td>NaN</td>\n",
       "      <td>NaN</td>\n",
       "      <td>NaN</td>\n",
       "      <td>NaN</td>\n",
       "      <td>NaN</td>\n",
       "      <td>NaN</td>\n",
       "    </tr>\n",
       "    <tr>\n",
       "      <th>249</th>\n",
       "      <td>250</td>\n",
       "      <td>NaN</td>\n",
       "      <td>NaN</td>\n",
       "      <td>NaN</td>\n",
       "      <td>NaN</td>\n",
       "      <td>NaN</td>\n",
       "      <td>NaN</td>\n",
       "      <td>NaN</td>\n",
       "    </tr>\n",
       "  </tbody>\n",
       "</table>\n",
       "<p>250 rows × 8 columns</p>\n",
       "</div>"
      ],
      "text/plain": [
       "     Sl.No       Name      Contact                Email  Alcohol Level  \\\n",
       "0        1      Pavan  433441114.0      pavan20@vit.edu           12.0   \n",
       "1        2      Anita  418783269.0      Anita20@vit.edu           10.5   \n",
       "2        3  Yashodhan  420783270.0  Yashodhan20@vit.edu            5.4   \n",
       "3        4   Rangappa  445783271.0   Rangappa20@vit.edu           15.0   \n",
       "4        5     Kamala  490783272.0     Kamala20@vit.edu            7.5   \n",
       "..     ...        ...          ...                  ...            ...   \n",
       "245    246        NaN          NaN                  NaN            NaN   \n",
       "246    247        NaN          NaN                  NaN            NaN   \n",
       "247    248        NaN          NaN                  NaN            NaN   \n",
       "248    249        NaN          NaN                  NaN            NaN   \n",
       "249    250        NaN          NaN                  NaN            NaN   \n",
       "\n",
       "     Amount Of sleep  Capability  Descion  \n",
       "0                6.0    0.800000      1.0  \n",
       "1                7.0    1.020000      1.0  \n",
       "2                5.5    0.936667      1.0  \n",
       "3                4.0    0.334000      0.0  \n",
       "4                6.5    1.033333      1.0  \n",
       "..               ...         ...      ...  \n",
       "245              NaN         NaN      NaN  \n",
       "246              NaN         NaN      NaN  \n",
       "247              NaN         NaN      NaN  \n",
       "248              NaN         NaN      NaN  \n",
       "249              NaN         NaN      NaN  \n",
       "\n",
       "[250 rows x 8 columns]"
      ]
     },
     "execution_count": 605,
     "metadata": {},
     "output_type": "execute_result"
    }
   ],
   "source": [
    "df"
   ]
  },
  {
   "cell_type": "code",
   "execution_count": 606,
   "id": "a8d4933e",
   "metadata": {},
   "outputs": [
    {
     "data": {
      "text/html": [
       "<div>\n",
       "<style scoped>\n",
       "    .dataframe tbody tr th:only-of-type {\n",
       "        vertical-align: middle;\n",
       "    }\n",
       "\n",
       "    .dataframe tbody tr th {\n",
       "        vertical-align: top;\n",
       "    }\n",
       "\n",
       "    .dataframe thead th {\n",
       "        text-align: right;\n",
       "    }\n",
       "</style>\n",
       "<table border=\"1\" class=\"dataframe\">\n",
       "  <thead>\n",
       "    <tr style=\"text-align: right;\">\n",
       "      <th></th>\n",
       "      <th>Alcohol Level</th>\n",
       "      <th>Amount Of sleep</th>\n",
       "      <th>Capability</th>\n",
       "      <th>Descion</th>\n",
       "    </tr>\n",
       "  </thead>\n",
       "  <tbody>\n",
       "    <tr>\n",
       "      <th>0</th>\n",
       "      <td>12.0</td>\n",
       "      <td>6.0</td>\n",
       "      <td>0.800000</td>\n",
       "      <td>1.0</td>\n",
       "    </tr>\n",
       "    <tr>\n",
       "      <th>1</th>\n",
       "      <td>10.5</td>\n",
       "      <td>7.0</td>\n",
       "      <td>1.020000</td>\n",
       "      <td>1.0</td>\n",
       "    </tr>\n",
       "    <tr>\n",
       "      <th>2</th>\n",
       "      <td>5.4</td>\n",
       "      <td>5.5</td>\n",
       "      <td>0.936667</td>\n",
       "      <td>1.0</td>\n",
       "    </tr>\n",
       "    <tr>\n",
       "      <th>3</th>\n",
       "      <td>15.0</td>\n",
       "      <td>4.0</td>\n",
       "      <td>0.334000</td>\n",
       "      <td>0.0</td>\n",
       "    </tr>\n",
       "    <tr>\n",
       "      <th>4</th>\n",
       "      <td>7.5</td>\n",
       "      <td>6.5</td>\n",
       "      <td>1.033333</td>\n",
       "      <td>1.0</td>\n",
       "    </tr>\n",
       "    <tr>\n",
       "      <th>...</th>\n",
       "      <td>...</td>\n",
       "      <td>...</td>\n",
       "      <td>...</td>\n",
       "      <td>...</td>\n",
       "    </tr>\n",
       "    <tr>\n",
       "      <th>85</th>\n",
       "      <td>20.1</td>\n",
       "      <td>4.1</td>\n",
       "      <td>0.213333</td>\n",
       "      <td>0.0</td>\n",
       "    </tr>\n",
       "    <tr>\n",
       "      <th>86</th>\n",
       "      <td>2.9</td>\n",
       "      <td>5.7</td>\n",
       "      <td>1.053333</td>\n",
       "      <td>0.0</td>\n",
       "    </tr>\n",
       "    <tr>\n",
       "      <th>87</th>\n",
       "      <td>25.3</td>\n",
       "      <td>1.7</td>\n",
       "      <td>-0.400000</td>\n",
       "      <td>0.0</td>\n",
       "    </tr>\n",
       "    <tr>\n",
       "      <th>88</th>\n",
       "      <td>0.4</td>\n",
       "      <td>2.5</td>\n",
       "      <td>0.603333</td>\n",
       "      <td>0.0</td>\n",
       "    </tr>\n",
       "    <tr>\n",
       "      <th>89</th>\n",
       "      <td>18.5</td>\n",
       "      <td>5.2</td>\n",
       "      <td>0.450000</td>\n",
       "      <td>0.0</td>\n",
       "    </tr>\n",
       "  </tbody>\n",
       "</table>\n",
       "<p>90 rows × 4 columns</p>\n",
       "</div>"
      ],
      "text/plain": [
       "    Alcohol Level  Amount Of sleep  Capability  Descion\n",
       "0            12.0              6.0    0.800000      1.0\n",
       "1            10.5              7.0    1.020000      1.0\n",
       "2             5.4              5.5    0.936667      1.0\n",
       "3            15.0              4.0    0.334000      0.0\n",
       "4             7.5              6.5    1.033333      1.0\n",
       "..            ...              ...         ...      ...\n",
       "85           20.1              4.1    0.213333      0.0\n",
       "86            2.9              5.7    1.053333      0.0\n",
       "87           25.3              1.7   -0.400000      0.0\n",
       "88            0.4              2.5    0.603333      0.0\n",
       "89           18.5              5.2    0.450000      0.0\n",
       "\n",
       "[90 rows x 4 columns]"
      ]
     },
     "execution_count": 606,
     "metadata": {},
     "output_type": "execute_result"
    }
   ],
   "source": [
    "df=df.drop(columns=['Name','Contact','Email','Sl.No'])\n",
    "df\n",
    "df=df.dropna()\n",
    "df"
   ]
  },
  {
   "cell_type": "code",
   "execution_count": 607,
   "id": "f85de002",
   "metadata": {},
   "outputs": [
    {
     "data": {
      "text/html": [
       "<div>\n",
       "<style scoped>\n",
       "    .dataframe tbody tr th:only-of-type {\n",
       "        vertical-align: middle;\n",
       "    }\n",
       "\n",
       "    .dataframe tbody tr th {\n",
       "        vertical-align: top;\n",
       "    }\n",
       "\n",
       "    .dataframe thead th {\n",
       "        text-align: right;\n",
       "    }\n",
       "</style>\n",
       "<table border=\"1\" class=\"dataframe\">\n",
       "  <thead>\n",
       "    <tr style=\"text-align: right;\">\n",
       "      <th></th>\n",
       "      <th>Alcohol Level</th>\n",
       "      <th>Amount Of sleep</th>\n",
       "      <th>Capability</th>\n",
       "      <th>Descion</th>\n",
       "    </tr>\n",
       "  </thead>\n",
       "  <tbody>\n",
       "    <tr>\n",
       "      <th>26</th>\n",
       "      <td>1.0</td>\n",
       "      <td>9.0</td>\n",
       "      <td>1.666667</td>\n",
       "      <td>1.0</td>\n",
       "    </tr>\n",
       "  </tbody>\n",
       "</table>\n",
       "</div>"
      ],
      "text/plain": [
       "    Alcohol Level  Amount Of sleep  Capability  Descion\n",
       "26            1.0              9.0    1.666667      1.0"
      ]
     },
     "execution_count": 607,
     "metadata": {},
     "output_type": "execute_result"
    }
   ],
   "source": [
    "df[df['Capability']==1.6666666666666667]\n"
   ]
  },
  {
   "cell_type": "code",
   "execution_count": 608,
   "id": "8162b442",
   "metadata": {},
   "outputs": [
    {
     "data": {
      "text/plain": [
       "<matplotlib.collections.PathCollection at 0x1e5ae140be0>"
      ]
     },
     "execution_count": 608,
     "metadata": {},
     "output_type": "execute_result"
    },
    {
     "data": {
      "image/png": "[encoded data removed]",
      "text/plain": [
       "<Figure size 432x288 with 1 Axes>"
      ]
     },
     "metadata": {
      "needs_background": "light"
     },
     "output_type": "display_data"
    }
   ],
   "source": [
    "from matplotlib import pyplot as pld\n",
    "x=df['Alcohol Level']\n",
    "y=df['Capability']\n",
    "pld.scatter(x,y)"
   ]
  },
  {
   "cell_type": "code",
   "execution_count": 609,
   "id": "5a8107b2",
   "metadata": {},
   "outputs": [
    {
     "data": {
      "text/plain": [
       "<matplotlib.collections.PathCollection at 0x1e5ab86ab50>"
      ]
     },
     "execution_count": 609,
     "metadata": {},
     "output_type": "execute_result"
    },
    {
     "data": {
      "image/png": "[encoded data removed]",
      "text/plain": [
       "<Figure size 432x288 with 1 Axes>"
      ]
     },
     "metadata": {
      "needs_background": "light"
     },
     "output_type": "display_data"
    }
   ],
   "source": [
    "from matplotlib import pyplot as pld\n",
    "x=df['Amount Of sleep']\n",
    "y=df['Capability']\n",
    "pld.scatter(x,y)"
   ]
  },
  {
   "cell_type": "code",
   "execution_count": 610,
   "id": "c11547d4",
   "metadata": {},
   "outputs": [
    {
     "data": {
      "text/html": [
       "<div>\n",
       "<style scoped>\n",
       "    .dataframe tbody tr th:only-of-type {\n",
       "        vertical-align: middle;\n",
       "    }\n",
       "\n",
       "    .dataframe tbody tr th {\n",
       "        vertical-align: top;\n",
       "    }\n",
       "\n",
       "    .dataframe thead th {\n",
       "        text-align: right;\n",
       "    }\n",
       "</style>\n",
       "<table border=\"1\" class=\"dataframe\">\n",
       "  <thead>\n",
       "    <tr style=\"text-align: right;\">\n",
       "      <th></th>\n",
       "      <th>Alcohol Level</th>\n",
       "      <th>Amount Of sleep</th>\n",
       "      <th>Capability</th>\n",
       "      <th>Descion</th>\n",
       "    </tr>\n",
       "  </thead>\n",
       "  <tbody>\n",
       "    <tr>\n",
       "      <th>Alcohol Level</th>\n",
       "      <td>1.000000</td>\n",
       "      <td>-0.066724</td>\n",
       "      <td>-0.701579</td>\n",
       "      <td>-0.464804</td>\n",
       "    </tr>\n",
       "    <tr>\n",
       "      <th>Amount Of sleep</th>\n",
       "      <td>-0.066724</td>\n",
       "      <td>1.000000</td>\n",
       "      <td>0.747840</td>\n",
       "      <td>0.435522</td>\n",
       "    </tr>\n",
       "    <tr>\n",
       "      <th>Capability</th>\n",
       "      <td>-0.701579</td>\n",
       "      <td>0.747840</td>\n",
       "      <td>1.000000</td>\n",
       "      <td>0.617328</td>\n",
       "    </tr>\n",
       "    <tr>\n",
       "      <th>Descion</th>\n",
       "      <td>-0.464804</td>\n",
       "      <td>0.435522</td>\n",
       "      <td>0.617328</td>\n",
       "      <td>1.000000</td>\n",
       "    </tr>\n",
       "  </tbody>\n",
       "</table>\n",
       "</div>"
      ],
      "text/plain": [
       "                 Alcohol Level  Amount Of sleep  Capability   Descion\n",
       "Alcohol Level         1.000000        -0.066724   -0.701579 -0.464804\n",
       "Amount Of sleep      -0.066724         1.000000    0.747840  0.435522\n",
       "Capability           -0.701579         0.747840    1.000000  0.617328\n",
       "Descion              -0.464804         0.435522    0.617328  1.000000"
      ]
     },
     "execution_count": 610,
     "metadata": {},
     "output_type": "execute_result"
    }
   ],
   "source": [
    "df.corr()"
   ]
  },
  {
   "cell_type": "code",
   "execution_count": 611,
   "id": "533051e7",
   "metadata": {},
   "outputs": [],
   "source": [
    "da=df.drop(columns=['Descion'])\n"
   ]
  },
  {
   "cell_type": "code",
   "execution_count": 612,
   "id": "cbcb9a62",
   "metadata": {},
   "outputs": [
    {
     "data": {
      "text/html": [
       "<div>\n",
       "<style scoped>\n",
       "    .dataframe tbody tr th:only-of-type {\n",
       "        vertical-align: middle;\n",
       "    }\n",
       "\n",
       "    .dataframe tbody tr th {\n",
       "        vertical-align: top;\n",
       "    }\n",
       "\n",
       "    .dataframe thead th {\n",
       "        text-align: right;\n",
       "    }\n",
       "</style>\n",
       "<table border=\"1\" class=\"dataframe\">\n",
       "  <thead>\n",
       "    <tr style=\"text-align: right;\">\n",
       "      <th></th>\n",
       "      <th>Alcohol Level</th>\n",
       "      <th>Amount Of sleep</th>\n",
       "      <th>Capability</th>\n",
       "    </tr>\n",
       "  </thead>\n",
       "  <tbody>\n",
       "    <tr>\n",
       "      <th>Alcohol Level</th>\n",
       "      <td>1.000000</td>\n",
       "      <td>-0.066724</td>\n",
       "      <td>-0.701579</td>\n",
       "    </tr>\n",
       "    <tr>\n",
       "      <th>Amount Of sleep</th>\n",
       "      <td>-0.066724</td>\n",
       "      <td>1.000000</td>\n",
       "      <td>0.747840</td>\n",
       "    </tr>\n",
       "    <tr>\n",
       "      <th>Capability</th>\n",
       "      <td>-0.701579</td>\n",
       "      <td>0.747840</td>\n",
       "      <td>1.000000</td>\n",
       "    </tr>\n",
       "  </tbody>\n",
       "</table>\n",
       "</div>"
      ],
      "text/plain": [
       "                 Alcohol Level  Amount Of sleep  Capability\n",
       "Alcohol Level         1.000000        -0.066724   -0.701579\n",
       "Amount Of sleep      -0.066724         1.000000    0.747840\n",
       "Capability           -0.701579         0.747840    1.000000"
      ]
     },
     "execution_count": 612,
     "metadata": {},
     "output_type": "execute_result"
    }
   ],
   "source": [
    "da.corr()"
   ]
  },
  {
   "cell_type": "code",
   "execution_count": 613,
   "id": "80ddd345",
   "metadata": {},
   "outputs": [
    {
     "data": {
      "text/plain": [
       "array([ 0.8       ,  1.02      ,  0.93666667,  0.334     ,  1.03333333,\n",
       "        0.71666667,  1.23666667,  1.05666667,  1.63333333, -0.32666667,\n",
       "        0.13333333,  1.21666667,  0.66333333,  0.53333333,  0.85666667,\n",
       "        0.72      ,  0.36666667,  1.03333333,  0.68333333,  1.12333333,\n",
       "        0.8       ,  0.87      ,  0.14333333,  0.18333333,  1.28666667,\n",
       "        1.2       ,  1.66666667,  0.34666667,  1.03333333,  0.68666667,\n",
       "        0.76666667,  0.62333333,  1.28333333,  0.71666667,  0.68333333,\n",
       "        0.55      ,  0.9       ,  0.72333333,  0.61666667,  0.25666667,\n",
       "        1.3       ,  1.13333333,  1.06666667,  1.07      ,  0.86666667,\n",
       "        1.21666667,  0.68333333,  0.        ,  0.24333333,  1.01333333,\n",
       "        1.01333333,  0.25333333,  0.16      ,  0.36333333,  0.00666667,\n",
       "       -0.06666667,  0.        ,  0.25666667,  0.05333333, -0.2       ,\n",
       "        0.20666667, -0.39      ,  0.94666667,  0.42      , -0.24666667,\n",
       "        0.76      , -0.08666667, -0.23      , -0.27      ,  0.39666667,\n",
       "        0.04666667,  0.16      ,  0.85      , -0.32333333,  0.28666667,\n",
       "       -0.43333333,  0.45666667,  0.38      ,  0.6       ,  0.68333333,\n",
       "        0.68      ,  0.13      ,  0.04333333,  0.61666667,  0.36      ,\n",
       "        0.21333333,  1.05333333, -0.4       ,  0.60333333,  0.45      ])"
      ]
     },
     "execution_count": 613,
     "metadata": {},
     "output_type": "execute_result"
    }
   ],
   "source": [
    "y=da['Capability'].values\n",
    "x=da.drop(['Capability'],axis=1).values\n",
    "y"
   ]
  },
  {
   "cell_type": "code",
   "execution_count": 614,
   "id": "529fb40e",
   "metadata": {},
   "outputs": [],
   "source": [
    "from sklearn.model_selection import train_test_split\n",
    "x_train,x_test,y_train,y_test=train_test_split(x,y,test_size=0.3,random_state=0)"
   ]
  },
  {
   "cell_type": "code",
   "execution_count": 615,
   "id": "8d108b9a",
   "metadata": {},
   "outputs": [
    {
     "data": {
      "text/plain": [
       "LinearRegression()"
      ]
     },
     "execution_count": 615,
     "metadata": {},
     "output_type": "execute_result"
    }
   ],
   "source": [
    "from sklearn.linear_model import LinearRegression\n",
    "ml=LinearRegression()\n",
    "ml.fit(x_train,y_train)"
   ]
  },
  {
   "cell_type": "code",
   "execution_count": 616,
   "id": "df1943b9",
   "metadata": {},
   "outputs": [
    {
     "name": "stdout",
     "output_type": "stream",
     "text": [
      "[ 0.93985976  0.50501534  0.35997597  1.14084974 -0.10469567  0.75371166\n",
      "  1.22416422  1.06866666  0.60121382  0.43647431  1.06124573  1.67534706\n",
      "  0.72427734  0.4130328   1.64073662  0.36407934  1.28721128 -0.47770263\n",
      "  0.38498907  1.07162886  0.12897777  1.23529562 -0.28966508  0.22317423\n",
      "  0.6849212  -0.00971341 -0.34978747]\n"
     ]
    }
   ],
   "source": [
    "y_pred=ml.predict(x_test)\n",
    "print(y_pred)\n",
    " "
   ]
  },
  {
   "cell_type": "code",
   "execution_count": 617,
   "id": "b489910e",
   "metadata": {},
   "outputs": [
    {
     "data": {
      "text/plain": [
       "array([1.7099575])"
      ]
     },
     "execution_count": 617,
     "metadata": {},
     "output_type": "execute_result"
    }
   ],
   "source": [
    "ml.predict([[0,9]])"
   ]
  },
  {
   "cell_type": "code",
   "execution_count": 618,
   "id": "a86dd10b",
   "metadata": {},
   "outputs": [
    {
     "data": {
      "text/plain": [
       "0.9701129520323234"
      ]
     },
     "execution_count": 618,
     "metadata": {},
     "output_type": "execute_result"
    }
   ],
   "source": [
    "from sklearn.metrics import r2_score\n",
    "r2_score(y_test,y_pred)"
   ]
  },
  {
   "cell_type": "code",
   "execution_count": 619,
   "id": "78dd4a8c",
   "metadata": {},
   "outputs": [
    {
     "data": {
      "text/plain": [
       "Text(0, 0.5, 'Predicted')"
      ]
     },
     "execution_count": 619,
     "metadata": {},
     "output_type": "execute_result"
    },
    {
     "data": {
      "image/png": "[encoded data removed]",
      "text/plain": [
       "<Figure size 432x288 with 1 Axes>"
      ]
     },
     "metadata": {
      "needs_background": "light"
     },
     "output_type": "display_data"
    }
   ],
   "source": [
    "import matplotlib.pyplot as plt\n",
    "plt.scatter(y_test,y_pred)\n",
    "plt.xlabel('Actual')\n",
    "plt.ylabel('Predicted')\n"
   ]
  },
  {
   "cell_type": "code",
   "execution_count": 620,
   "id": "ec3dd307",
   "metadata": {
    "scrolled": true
   },
   "outputs": [
    {
     "data": {
      "text/html": [
       "<div>\n",
       "<style scoped>\n",
       "    .dataframe tbody tr th:only-of-type {\n",
       "        vertical-align: middle;\n",
       "    }\n",
       "\n",
       "    .dataframe tbody tr th {\n",
       "        vertical-align: top;\n",
       "    }\n",
       "\n",
       "    .dataframe thead th {\n",
       "        text-align: right;\n",
       "    }\n",
       "</style>\n",
       "<table border=\"1\" class=\"dataframe\">\n",
       "  <thead>\n",
       "    <tr style=\"text-align: right;\">\n",
       "      <th></th>\n",
       "      <th>Actual Value</th>\n",
       "      <th>Predicted Value</th>\n",
       "    </tr>\n",
       "  </thead>\n",
       "  <tbody>\n",
       "    <tr>\n",
       "      <th>0</th>\n",
       "      <td>0.936667</td>\n",
       "      <td>0.939860</td>\n",
       "    </tr>\n",
       "    <tr>\n",
       "      <th>1</th>\n",
       "      <td>0.533333</td>\n",
       "      <td>0.505015</td>\n",
       "    </tr>\n",
       "    <tr>\n",
       "      <th>2</th>\n",
       "      <td>0.363333</td>\n",
       "      <td>0.359976</td>\n",
       "    </tr>\n",
       "    <tr>\n",
       "      <th>3</th>\n",
       "      <td>1.133333</td>\n",
       "      <td>1.140850</td>\n",
       "    </tr>\n",
       "    <tr>\n",
       "      <th>4</th>\n",
       "      <td>-0.086667</td>\n",
       "      <td>-0.104696</td>\n",
       "    </tr>\n",
       "    <tr>\n",
       "      <th>5</th>\n",
       "      <td>0.766667</td>\n",
       "      <td>0.753712</td>\n",
       "    </tr>\n",
       "    <tr>\n",
       "      <th>6</th>\n",
       "      <td>1.216667</td>\n",
       "      <td>1.224164</td>\n",
       "    </tr>\n",
       "    <tr>\n",
       "      <th>7</th>\n",
       "      <td>1.070000</td>\n",
       "      <td>1.068667</td>\n",
       "    </tr>\n",
       "    <tr>\n",
       "      <th>8</th>\n",
       "      <td>0.600000</td>\n",
       "      <td>0.601214</td>\n",
       "    </tr>\n",
       "    <tr>\n",
       "      <th>9</th>\n",
       "      <td>0.450000</td>\n",
       "      <td>0.436474</td>\n",
       "    </tr>\n",
       "    <tr>\n",
       "      <th>10</th>\n",
       "      <td>1.056667</td>\n",
       "      <td>1.061246</td>\n",
       "    </tr>\n",
       "    <tr>\n",
       "      <th>11</th>\n",
       "      <td>1.666667</td>\n",
       "      <td>1.675347</td>\n",
       "    </tr>\n",
       "    <tr>\n",
       "      <th>12</th>\n",
       "      <td>0.716667</td>\n",
       "      <td>0.724277</td>\n",
       "    </tr>\n",
       "    <tr>\n",
       "      <th>13</th>\n",
       "      <td>0.420000</td>\n",
       "      <td>0.413033</td>\n",
       "    </tr>\n",
       "    <tr>\n",
       "      <th>14</th>\n",
       "      <td>1.633333</td>\n",
       "      <td>1.640737</td>\n",
       "    </tr>\n",
       "    <tr>\n",
       "      <th>15</th>\n",
       "      <td>0.366667</td>\n",
       "      <td>0.364079</td>\n",
       "    </tr>\n",
       "    <tr>\n",
       "      <th>16</th>\n",
       "      <td>1.286667</td>\n",
       "      <td>1.287211</td>\n",
       "    </tr>\n",
       "    <tr>\n",
       "      <th>17</th>\n",
       "      <td>0.000000</td>\n",
       "      <td>-0.477703</td>\n",
       "    </tr>\n",
       "    <tr>\n",
       "      <th>18</th>\n",
       "      <td>0.380000</td>\n",
       "      <td>0.384989</td>\n",
       "    </tr>\n",
       "    <tr>\n",
       "      <th>19</th>\n",
       "      <td>1.066667</td>\n",
       "      <td>1.071629</td>\n",
       "    </tr>\n",
       "    <tr>\n",
       "      <th>20</th>\n",
       "      <td>0.143333</td>\n",
       "      <td>0.128978</td>\n",
       "    </tr>\n",
       "    <tr>\n",
       "      <th>21</th>\n",
       "      <td>1.236667</td>\n",
       "      <td>1.235296</td>\n",
       "    </tr>\n",
       "    <tr>\n",
       "      <th>22</th>\n",
       "      <td>-0.390000</td>\n",
       "      <td>-0.289665</td>\n",
       "    </tr>\n",
       "    <tr>\n",
       "      <th>23</th>\n",
       "      <td>0.243333</td>\n",
       "      <td>0.223174</td>\n",
       "    </tr>\n",
       "    <tr>\n",
       "      <th>24</th>\n",
       "      <td>0.680000</td>\n",
       "      <td>0.684921</td>\n",
       "    </tr>\n",
       "    <tr>\n",
       "      <th>25</th>\n",
       "      <td>0.006667</td>\n",
       "      <td>-0.009713</td>\n",
       "    </tr>\n",
       "    <tr>\n",
       "      <th>26</th>\n",
       "      <td>-0.323333</td>\n",
       "      <td>-0.349787</td>\n",
       "    </tr>\n",
       "  </tbody>\n",
       "</table>\n",
       "</div>"
      ],
      "text/plain": [
       "    Actual Value  Predicted Value\n",
       "0       0.936667         0.939860\n",
       "1       0.533333         0.505015\n",
       "2       0.363333         0.359976\n",
       "3       1.133333         1.140850\n",
       "4      -0.086667        -0.104696\n",
       "5       0.766667         0.753712\n",
       "6       1.216667         1.224164\n",
       "7       1.070000         1.068667\n",
       "8       0.600000         0.601214\n",
       "9       0.450000         0.436474\n",
       "10      1.056667         1.061246\n",
       "11      1.666667         1.675347\n",
       "12      0.716667         0.724277\n",
       "13      0.420000         0.413033\n",
       "14      1.633333         1.640737\n",
       "15      0.366667         0.364079\n",
       "16      1.286667         1.287211\n",
       "17      0.000000        -0.477703\n",
       "18      0.380000         0.384989\n",
       "19      1.066667         1.071629\n",
       "20      0.143333         0.128978\n",
       "21      1.236667         1.235296\n",
       "22     -0.390000        -0.289665\n",
       "23      0.243333         0.223174\n",
       "24      0.680000         0.684921\n",
       "25      0.006667        -0.009713\n",
       "26     -0.323333        -0.349787"
      ]
     },
     "execution_count": 620,
     "metadata": {},
     "output_type": "execute_result"
    }
   ],
   "source": [
    "pred_y_df=pd.DataFrame({'Actual Value':y_test,'Predicted Value':y_pred})\n",
    "pred_y_df"
   ]
  },
  {
   "cell_type": "code",
   "execution_count": null,
   "id": "55d17c46",
   "metadata": {},
   "outputs": [],
   "source": []
  },
  {
   "cell_type": "code",
   "execution_count": null,
   "id": "e8e496dc",
   "metadata": {},
   "outputs": [],
   "source": []
  },
  {
   "cell_type": "code",
   "execution_count": null,
   "id": "e5207a9e",
   "metadata": {},
   "outputs": [],
   "source": []
  }
 ],
 "metadata": {
  "kernelspec": {
   "display_name": "Python 3 (ipykernel)",
   "language": "python",
   "name": "python3"
  },
  "language_info": {
   "codemirror_mode": {
    "name": "ipython",
    "version": 3
   },
   "file_extension": ".py",
   "mimetype": "text/x-python",
   "name": "python",
   "nbconvert_exporter": "python",
   "pygments_lexer": "ipython3",
   "version": "3.9.5"
  }
 },
 "nbformat": 4,
 "nbformat_minor": 5
}
